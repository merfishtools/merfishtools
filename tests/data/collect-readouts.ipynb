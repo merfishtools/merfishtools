{
 "cells": [
  {
   "cell_type": "code",
   "execution_count": 1,
   "metadata": {
    "collapsed": true
   },
   "outputs": [],
   "source": [
    "import pandas as pd\n",
    "\n",
    "d = pd.read_excel(\"http://zhuang.harvard.edu/MERFISHData/data_for_release.zip\", parse_cols=[0, 1, 2, 3, 4, 6])"
   ]
  },
  {
   "cell_type": "code",
   "execution_count": 4,
   "metadata": {},
   "outputs": [],
   "source": [
    "readouts = pd.DataFrame()\n",
    "readouts[\"experiment\"] = d[\"experiment\"]\n",
    "readouts[\"cell\"] = d[\"cellID\"]\n",
    "readouts[\"feat\"] = d[\"geneName\"]\n",
    "readouts[\"codeword\"] = d[\"intCodeword\"].apply(\"{:016b}\".format)"
   ]
  },
  {
   "cell_type": "code",
   "execution_count": 8,
   "metadata": {},
   "outputs": [],
   "source": [
    "readouts.to_csv(\"140genesData.readouts.txt\", index=False, sep=\"\\t\")"
   ]
  }
 ],
 "metadata": {
  "kernelspec": {
   "display_name": "Python 3",
   "language": "python",
   "name": "python3"
  },
  "language_info": {
   "codemirror_mode": {
    "name": "ipython",
    "version": 3
   },
   "file_extension": ".py",
   "mimetype": "text/x-python",
   "name": "python",
   "nbconvert_exporter": "python",
   "pygments_lexer": "ipython3",
   "version": "3.5.2"
  }
 },
 "nbformat": 4,
 "nbformat_minor": 2
}
